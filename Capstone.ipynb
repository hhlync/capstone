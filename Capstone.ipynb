{
 "cells": [
  {
   "cell_type": "markdown",
   "metadata": {},
   "source": [
    "# Another Café in Seoul "
   ]
  },
  {
   "cell_type": "markdown",
   "metadata": {},
   "source": [
    "### Introduction"
   ]
  },
  {
   "cell_type": "markdown",
   "metadata": {},
   "source": [
    "A client wants to open a café in Seoul as part of her retirement plan; she hired us to pick out the optimal location for her new business. The client requested that we pay special attention to the rent cost.   \n",
    "\n",
    "According to Hyundai Research Institute, coffee is a 5.7 billion dollar industry in South Korea. An average adult drinks 353 cups of coffee per year. Despite the high demand, coffee is a risky business, because the market is already saturated. Our client is one of many who wants to run a café after retirement. \n",
    "\n",
    "**So where should we set up a cafe in a city saturated with big and small coffee shops?**\n",
    "\n",
    "\n",
    "We consulted the advices given by commerical property experts in Seoul. Five suggestions were given: \n",
    "1. Although setting up a shop in a large commercial district guarantees revenue to an extent, the cost is too high. It is better to target the periphery of a growing commercial district with significant foot traffic and cheaper rent. \n",
    "2. It is a bad idea to set up a shop near malls, which provide better facilities than surrounding shops. People will likely walk past the cafe. \n",
    "3. Avoid a location with a competitor within 200-300m radius. \n",
    "4. Office complex or university nearby will boost the coffee business.\n",
    "5. Restuarants can be a plus as Koreans tend to go to a cafe after the restuarant. \n",
    "\n",
    "\n",
    "Sung-joon Huh, \"Where to set up a cafe according to three commerical propery experts,\" \n",
    "<https://biz.chosun.com/site/data/html_dir/2011/12/29/2011122901750.html>."
   ]
  },
  {
   "cell_type": "markdown",
   "metadata": {},
   "source": [
    "### Research Objective"
   ]
  },
  {
   "cell_type": "markdown",
   "metadata": {},
   "source": [
    "Based on these advices and the client's preference, we devised a list of factors to consider: \n",
    "1. The cafe should be situated at the periphery of a large commericial district or a growing commerical district. Therefore, the cafe cannot be near a mall.\n",
    "2. There cannot be another coffee shop within 200-300m radius. \n",
    "3. Neighbourhood near a university or an office complex is a good candidate. \n",
    "\n",
    "Our research objective is to narrow down the location candidates by picking out a district which:\n",
    "* has a university. \n",
    "* has less coffee shops. \n",
    "* has less malls. "
   ]
  },
  {
   "cell_type": "markdown",
   "metadata": {},
   "source": [
    "### Data"
   ]
  },
  {
   "cell_type": "markdown",
   "metadata": {},
   "source": [
    "We will extract data from two sources. \n",
    "1. We use a list of districts in Seoul from **Wikipedia**, which can be scraped with BeautifulSoup: https://en.wikipedia.org/wiki/List_of_districts_of_Seoul.\n",
    "2. We rely on **Foursquare API** to locate malls, cafes, and universities in Seoul.\n",
    "3. We use **Geopy** to retrieve the geological locations.  "
   ]
  }
 ],
 "metadata": {
  "kernelspec": {
   "display_name": "Python 3",
   "language": "python",
   "name": "python3"
  },
  "language_info": {
   "codemirror_mode": {
    "name": "ipython",
    "version": 3
   },
   "file_extension": ".py",
   "mimetype": "text/x-python",
   "name": "python",
   "nbconvert_exporter": "python",
   "pygments_lexer": "ipython3",
   "version": "3.8.3"
  }
 },
 "nbformat": 4,
 "nbformat_minor": 4
}
